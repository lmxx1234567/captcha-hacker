{
 "cells": [
  {
   "cell_type": "code",
   "execution_count": 1,
   "metadata": {},
   "outputs": [],
   "source": [
    "%load_ext autoreload\n",
    "%autoreload 2"
   ]
  },
  {
   "cell_type": "code",
   "execution_count": 24,
   "metadata": {},
   "outputs": [],
   "source": [
    "import requests\n",
    "from PIL import Image\n",
    "import io\n",
    "import string\n",
    "\n",
    "vocab = string.ascii_letters + string.digits\n",
    "\n",
    "\n",
    "def get_captcha_image():\n",
    "    response = requests.get(\n",
    "        \"https://apply.jtw.beijing.gov.cn/apply/app/common/validCodeImage\"\n",
    "    )\n",
    "    cookie = response.cookies.get_dict()  # 获取cookie\n",
    "    image = Image.open(io.BytesIO(response.content))  # 获取图片\n",
    "    return image, cookie\n",
    "\n",
    "\n",
    "def check_captcha(captcha_text, cookie):\n",
    "    headers = {\"cookie\": f\"JSESSIONID={cookie['JSESSIONID']}\"}\n",
    "    url = f\"https://apply.jtw.beijing.gov.cn/apply/app/common/checkValidCode?validCode={captcha_text}\"\n",
    "    response = requests.get(url, headers=headers)\n",
    "    return response.json()\n",
    "\n",
    "\n",
    "# 图像预处理\n",
    "def preprocess_image(image):\n",
    "    image = image.convert(\"L\")  # 灰度化\n",
    "    threshold = 200\n",
    "    table = []\n",
    "    for i in range(256):\n",
    "        if i < threshold:\n",
    "            table.append(0)\n",
    "        else:\n",
    "            table.append(1)\n",
    "    image = image.point(table, '1')  # 二值化\n",
    "    return image"
   ]
  },
  {
   "cell_type": "code",
   "execution_count": 3,
   "metadata": {},
   "outputs": [
    {
     "name": "stdout",
     "output_type": "stream",
     "text": [
      "['fonts/DejaVuSansMono-Regular.ttf', 'fonts/NotoSerif-Regular.ttf', 'fonts/DejaVuSerif-Regular.ttf', 'fonts/Amiri-Regular.ttf', 'fonts/KawkabMono-Regular.ttf', 'fonts/Catamaran-Regular.ttf', 'fonts/DavidLibre-Regular.ttf', 'fonts/NotoSans-Regular.ttf', 'fonts/LinusLibertinus-Regular.ttf', 'fonts/Lato-Regular.ttf', 'fonts/Halant-Regular.ttf', 'fonts/NotoSansMono-Regular.ttf', 'fonts/InconsolataSugar-Regular.ttf', 'fonts/IBMPlexMono-Regular.ttf', 'fonts/DejaVuSansMonoForConso1as-Regular.ttf', 'fonts/Cousine-Regular.ttf', 'fonts/DejaVuSans-Regular.ttf']\n"
     ]
    }
   ],
   "source": [
    "# list all ttf fonts in the font directory\n",
    "import os\n",
    "\n",
    "font_dir = \"fonts\"\n",
    "fonts = []\n",
    "for root, dirs, files in os.walk(font_dir):\n",
    "    for file in files:\n",
    "        if file.endswith(\".ttf\"):\n",
    "            fonts.append(os.path.join(root, file))\n",
    "print(fonts)"
   ]
  },
  {
   "cell_type": "code",
   "execution_count": 28,
   "metadata": {},
   "outputs": [],
   "source": [
    "import string\n",
    "import random\n",
    "from captcha.image import ImageCaptcha,random_color,SMOOTH,ColorTuple\n",
    "from PIL import Image\n",
    "from PIL.ImageDraw import Draw\n",
    "\n",
    "def create_noise_line(image: Image, color: ColorTuple) -> Image:\n",
    "    w, h = image.size\n",
    "    x1 = random.randint(0, w)\n",
    "    x2 = random.randint(0, w)\n",
    "    y1 = random.randint(0, h)\n",
    "    y2 = random.randint(0, h)\n",
    "    points = [x1, y1, x2, y2]\n",
    "    Draw(image).line(points, fill=color, width=1)\n",
    "    return image\n",
    "\n",
    "def generate_image(chars: str) -> Image:\n",
    "    \"\"\"Generate the image of the given characters.\n",
    "\n",
    "    :param chars: text to be generated.\n",
    "    \"\"\"\n",
    "    image = ImageCaptcha(width=112,height=35,fonts=fonts)\n",
    "    # background = random_color(238, 255)\n",
    "    color = random_color(1, 200, 255)\n",
    "    im = image.create_captcha_image(chars, color, (255, 255, 255) )\n",
    "    image.create_noise_dots(im, color,1,30)\n",
    "    create_noise_line(im, color)\n",
    "    create_noise_line(im, color)\n",
    "    # im = im.filter(SMOOTH)\n",
    "    return im\n",
    "\n",
    "def generate_captcha():\n",
    "    captcha = ''.join(random.choices(vocab, k=4))\n",
    "    image = generate_image(captcha)\n",
    "    return image, captcha\n",
    "\n",
    "def generate_simple_captcha():\n",
    "    captcha = ''.join(random.choices(vocab, k=4))\n",
    "    image = ImageCaptcha(width=112,height=35,font_sizes=[36]).generate_image(captcha)\n",
    "    return image, captcha\n"
   ]
  },
  {
   "cell_type": "code",
   "execution_count": 29,
   "metadata": {},
   "outputs": [
    {
     "name": "stdout",
     "output_type": "stream",
     "text": [
      "(112, 35)\n"
     ]
    },
    {
     "data": {
      "image/jpeg": "[encoded data removed]",
      "image/png": "[encoded data removed]",
      "text/plain": [
       "<PIL.PngImagePlugin.PngImageFile image mode=RGB size=112x35>"
      ]
     },
     "metadata": {},
     "output_type": "display_data"
    },
    {
     "data": {
      "image/jpeg": "[encoded data removed]",
      "image/png": "[encoded data removed]",
      "text/plain": [
       "<PIL.Image.Image image mode=1 size=112x35>"
      ]
     },
     "metadata": {},
     "output_type": "display_data"
    },
    {
     "data": {
      "image/jpeg": "[encoded data removed]",
      "image/png": "[encoded data removed]",
      "text/plain": [
       "<PIL.Image.Image image mode=RGB size=112x35>"
      ]
     },
     "metadata": {},
     "output_type": "display_data"
    },
    {
     "data": {
      "image/jpeg": "[encoded data removed]",
      "image/png": "[encoded data removed]",
      "text/plain": [
       "<PIL.Image.Image image mode=1 size=112x35>"
      ]
     },
     "metadata": {},
     "output_type": "display_data"
    }
   ],
   "source": [
    "# 示例使用\n",
    "image, cookie = get_captcha_image()\n",
    "\n",
    "# image info\n",
    "print(image.size)\n",
    "# show image\n",
    "from IPython.display import display\n",
    "\n",
    "display(image)\n",
    "display(preprocess_image(image))\n",
    "\n",
    "image, captcha = generate_captcha()\n",
    "display(image)\n",
    "display(preprocess_image(image))"
   ]
  },
  {
   "cell_type": "code",
   "execution_count": 6,
   "metadata": {},
   "outputs": [],
   "source": [
    "# generate captcha dataset\n",
    "from torch.utils.data import Dataset\n",
    "import concurrent.futures\n",
    "from torchvision import transforms\n",
    "import torch\n",
    "\n",
    "\n",
    "def generate_and_preprocess(simple=False):\n",
    "    if simple:\n",
    "        image, captcha = generate_simple_captcha()\n",
    "    else:\n",
    "        image, captcha = generate_captcha()\n",
    "    image = preprocess_image(image)\n",
    "    image_tensor = transforms.ToTensor()(image)\n",
    "\n",
    "    # Generate one-hot encoded label\n",
    "    label = torch.zeros(4, 62)\n",
    "    for i, char in enumerate(captcha):\n",
    "        label[i][vocab.index(char)] = 1\n",
    "\n",
    "    return image_tensor, label\n",
    "\n",
    "\n",
    "class CaptchaDataset(Dataset):\n",
    "    def __init__(self, n=1000,simple=False):\n",
    "        self.data = []\n",
    "        self.labels = []\n",
    "\n",
    "        with concurrent.futures.ProcessPoolExecutor() as executor:\n",
    "            results = list(executor.map(generate_and_preprocess, [simple] * n))\n",
    "\n",
    "        for image_tensor, label in results:\n",
    "            self.data.append(image_tensor)\n",
    "            self.labels.append(label)\n",
    "\n",
    "    def __len__(self):\n",
    "        return len(self.data)\n",
    "\n",
    "    def __getitem__(self, idx):\n",
    "        return self.data[idx], self.labels[idx]"
   ]
  },
  {
   "cell_type": "code",
   "execution_count": 53,
   "metadata": {},
   "outputs": [
    {
     "name": "stderr",
     "output_type": "stream",
     "text": [
      "/tmp/ipykernel_4183378/562505936.py:6: FutureWarning: You are using `torch.load` with `weights_only=False` (the current default value), which uses the default pickle module implicitly. It is possible to construct malicious pickle data which will execute arbitrary code during unpickling (See https://github.com/pytorch/pytorch/blob/main/SECURITY.md#untrusted-models for more details). In a future release, the default value for `weights_only` will be flipped to `True`. This limits the functions that could be executed during unpickling. Arbitrary objects will no longer be allowed to be loaded via this mode unless they are explicitly allowlisted by the user via `torch.serialization.add_safe_globals`. We recommend you start setting `weights_only=True` for any use case where you don't have full control of the loaded file. Please open an issue on GitHub for any issues related to this experimental feature.\n",
      "  model.load_state_dict(torch.load(\"captcha_ocr.pth\"))\n"
     ]
    }
   ],
   "source": [
    "from models.cnn import CaptchaOCR\n",
    "model = CaptchaOCR()\n",
    "import os\n",
    "\n",
    "if os.path.exists(\"captcha_ocr.pth\"):\n",
    "    model.load_state_dict(torch.load(\"captcha_ocr.pth\"))"
   ]
  },
  {
   "cell_type": "code",
   "execution_count": 19,
   "metadata": {},
   "outputs": [
    {
     "name": "stderr",
     "output_type": "stream",
     "text": [
      "/home/caoziguang/miniconda3/envs/captcha/lib/python3.11/site-packages/torch/nn/modules/transformer.py:307: UserWarning: enable_nested_tensor is True, but self.use_nested_tensor is False because encoder_layer.self_attn.batch_first was not True(use batch_first for better inference performance)\n",
      "  warnings.warn(f\"enable_nested_tensor is True, but self.use_nested_tensor is False because {why_not_sparsity_fast_path}\")\n",
      "/tmp/ipykernel_4183378/265152414.py:6: FutureWarning: You are using `torch.load` with `weights_only=False` (the current default value), which uses the default pickle module implicitly. It is possible to construct malicious pickle data which will execute arbitrary code during unpickling (See https://github.com/pytorch/pytorch/blob/main/SECURITY.md#untrusted-models for more details). In a future release, the default value for `weights_only` will be flipped to `True`. This limits the functions that could be executed during unpickling. Arbitrary objects will no longer be allowed to be loaded via this mode unless they are explicitly allowlisted by the user via `torch.serialization.add_safe_globals`. We recommend you start setting `weights_only=True` for any use case where you don't have full control of the loaded file. Please open an issue on GitHub for any issues related to this experimental feature.\n",
      "  model.load_state_dict(torch.load(\"captcha_transformer.pth\"))\n"
     ]
    }
   ],
   "source": [
    "from models.transformer import CaptchaSolverWithTransformer\n",
    "model = CaptchaSolverWithTransformer()\n",
    "import os\n",
    "\n",
    "if os.path.exists(\"captcha_transformer.pth\"):\n",
    "    model.load_state_dict(torch.load(\"captcha_transformer.pth\"))"
   ]
  },
  {
   "cell_type": "code",
   "execution_count": 40,
   "metadata": {},
   "outputs": [
    {
     "name": "stderr",
     "output_type": "stream",
     "text": [
      "/home/caoziguang/miniconda3/envs/captcha/lib/python3.11/site-packages/torch/nn/modules/transformer.py:307: UserWarning: enable_nested_tensor is True, but self.use_nested_tensor is False because encoder_layer.self_attn.batch_first was not True(use batch_first for better inference performance)\n",
      "  warnings.warn(f\"enable_nested_tensor is True, but self.use_nested_tensor is False because {why_not_sparsity_fast_path}\")\n"
     ]
    }
   ],
   "source": [
    "from models.cnn_transformer import CaptchaSolverWithCNNTransformer\n",
    "\n",
    "model = CaptchaSolverWithCNNTransformer()\n",
    "import os\n",
    "\n",
    "if os.path.exists(\"captcha_cnn_transformer.pth\"):\n",
    "    model.load_state_dict(torch.load(\"captcha_cnn_transformer.pth\"))"
   ]
  },
  {
   "cell_type": "code",
   "execution_count": 59,
   "metadata": {},
   "outputs": [],
   "source": [
    "from torch.utils.data import DataLoader\n",
    "\n",
    "dataset = CaptchaDataset(50000)\n",
    "dataloader = DataLoader(dataset, batch_size=32, shuffle=True, drop_last=True)"
   ]
  },
  {
   "cell_type": "code",
   "execution_count": 60,
   "metadata": {},
   "outputs": [
    {
     "name": "stderr",
     "output_type": "stream",
     "text": [
      "100%|██████████| 1562/1562 [01:01<00:00, 25.20it/s]\n"
     ]
    },
    {
     "name": "stdout",
     "output_type": "stream",
     "text": [
      "Loss: 0.9976024627685547 Accuracy: 0.671875\n"
     ]
    },
    {
     "name": "stderr",
     "output_type": "stream",
     "text": [
      "100%|██████████| 1562/1562 [01:05<00:00, 24.00it/s]\n"
     ]
    },
    {
     "name": "stdout",
     "output_type": "stream",
     "text": [
      "Loss: 0.8000314831733704 Accuracy: 0.78125\n"
     ]
    },
    {
     "name": "stderr",
     "output_type": "stream",
     "text": [
      "100%|██████████| 1562/1562 [00:59<00:00, 26.24it/s]\n"
     ]
    },
    {
     "name": "stdout",
     "output_type": "stream",
     "text": [
      "Loss: 0.8939096927642822 Accuracy: 0.71875\n"
     ]
    },
    {
     "name": "stderr",
     "output_type": "stream",
     "text": [
      "100%|██████████| 1562/1562 [00:55<00:00, 28.23it/s]\n"
     ]
    },
    {
     "name": "stdout",
     "output_type": "stream",
     "text": [
      "Loss: 0.7746679186820984 Accuracy: 0.7578125\n"
     ]
    },
    {
     "name": "stderr",
     "output_type": "stream",
     "text": [
      "100%|██████████| 1562/1562 [00:53<00:00, 28.93it/s]"
     ]
    },
    {
     "name": "stdout",
     "output_type": "stream",
     "text": [
      "Loss: 0.19961082935333252 Accuracy: 0.921875\n"
     ]
    },
    {
     "name": "stderr",
     "output_type": "stream",
     "text": [
      "\n"
     ]
    }
   ],
   "source": [
    "# train model\n",
    "import torch.optim as optim\n",
    "from tqdm import tqdm\n",
    "\n",
    "optimizer = optim.Adam(model.parameters(), lr=0.001)\n",
    "criterion = torch.nn.CrossEntropyLoss()\n",
    "\n",
    "for epoch in range(5):\n",
    "    for x, y in tqdm(dataloader):\n",
    "        y_pred = model(x)\n",
    "        loss = criterion(y_pred.view(-1, 62), y.argmax(dim=-1).view(-1))\n",
    "        optimizer.zero_grad()\n",
    "        loss.backward()\n",
    "        optimizer.step()\n",
    "    accuracy = (y_pred.argmax(dim=-1) == y.argmax(dim=-1)).float().mean()\n",
    "    tqdm.write(f\"Loss: {loss.item()} Accuracy: {accuracy.item()}\")"
   ]
  },
  {
   "cell_type": "code",
   "execution_count": 66,
   "metadata": {},
   "outputs": [
    {
     "data": {
      "image/jpeg": "[encoded data removed]",
      "image/png": "[encoded data removed]",
      "text/plain": [
       "<PIL.Image.Image image mode=RGB size=112x35>"
      ]
     },
     "metadata": {},
     "output_type": "display_data"
    },
    {
     "name": "stdout",
     "output_type": "stream",
     "text": [
      "xPqh\n"
     ]
    },
    {
     "data": {
      "text/plain": [
       "[('XPQh', 0.33216238021850586),\n",
       " ('XpQh', 0.14888665080070496),\n",
       " ('xPQh', 0.13627782464027405),\n",
       " ('XPqh', 0.12827244400978088),\n",
       " ('xpQh', 0.06108442321419716),\n",
       " ('Xpqh', 0.05749613419175148),\n",
       " ('xPqh', 0.05262694135308266),\n",
       " ('xpqh', 0.023589210584759712),\n",
       " ('XPVh', 0.018817078322172165),\n",
       " ('XpVh', 0.008434463292360306)]"
      ]
     },
     "execution_count": 66,
     "metadata": {},
     "output_type": "execute_result"
    }
   ],
   "source": [
    "# test model\n",
    "image, captcha = generate_captcha()\n",
    "display(image)\n",
    "print(captcha)\n",
    "image = preprocess_image(image)\n",
    "x = transforms.ToTensor()(image).unsqueeze(0)\n",
    "y_pred = model.predict_all_possible(x)\n",
    "y_pred"
   ]
  },
  {
   "cell_type": "code",
   "execution_count": 68,
   "metadata": {},
   "outputs": [
    {
     "data": {
      "image/jpeg": "[encoded data removed]",
      "image/png": "[encoded data removed]",
      "text/plain": [
       "<PIL.PngImagePlugin.PngImageFile image mode=RGB size=112x35>"
      ]
     },
     "metadata": {},
     "output_type": "display_data"
    },
    {
     "data": {
      "text/plain": [
       "[('k448', 0.7556287050247192),\n",
       " ('h448', 0.17285388708114624),\n",
       " ('k443', 0.028829650953412056),\n",
       " ('k44B', 0.01767926849424839),\n",
       " ('h443', 0.0065949284471571445),\n",
       " ('h44B', 0.004044222179800272),\n",
       " ('Z448', 0.003962393384426832),\n",
       " ('L448', 0.0026515729259699583),\n",
       " ('G448', 0.002635649172589183),\n",
       " ('x448', 0.002047312445938587)]"
      ]
     },
     "execution_count": 68,
     "metadata": {},
     "output_type": "execute_result"
    }
   ],
   "source": [
    "# test model on real captcha\n",
    "image, cookie = get_captcha_image()\n",
    "display(image)\n",
    "\n",
    "image = preprocess_image(image)\n",
    "x = transforms.ToTensor()(image).unsqueeze(0)\n",
    "y_pred = model.predict_all_possible(x)\n",
    "y_pred"
   ]
  },
  {
   "cell_type": "code",
   "execution_count": 63,
   "metadata": {},
   "outputs": [],
   "source": [
    "# save model\n",
    "if model.__class__.__name__ == \"CaptchaOCR\":\n",
    "    torch.save(model.state_dict(), \"captcha_ocr.pth\")\n",
    "elif model.__class__.__name__ == \"CaptchaSolverWithTransformer\":\n",
    "    torch.save(model.state_dict(), \"captcha_transformer.pth\")"
   ]
  }
 ],
 "metadata": {
  "kernelspec": {
   "display_name": ".venv",
   "language": "python",
   "name": "python3"
  },
  "language_info": {
   "codemirror_mode": {
    "name": "ipython",
    "version": 3
   },
   "file_extension": ".py",
   "mimetype": "text/x-python",
   "name": "python",
   "nbconvert_exporter": "python",
   "pygments_lexer": "ipython3",
   "version": "3.11.9"
  }
 },
 "nbformat": 4,
 "nbformat_minor": 2
}
