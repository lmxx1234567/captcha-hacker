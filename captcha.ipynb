{
 "cells": [
  {
   "cell_type": "code",
   "execution_count": 1,
   "metadata": {},
   "outputs": [],
   "source": [
    "%load_ext autoreload\n",
    "%autoreload 2"
   ]
  },
  {
   "cell_type": "code",
   "execution_count": 2,
   "metadata": {},
   "outputs": [],
   "source": [
    "import torch\n",
    "device = torch.device(\"cuda\" if torch.cuda.is_available() else \"cpu\")"
   ]
  },
  {
   "cell_type": "code",
   "execution_count": 2,
   "metadata": {},
   "outputs": [
    {
     "name": "stdout",
     "output_type": "stream",
     "text": [
      "(112, 35)\n"
     ]
    },
    {
     "data": {
      "image/jpeg": "[encoded data removed]",
      "image/png": "[encoded data removed]",
      "text/plain": [
       "<PIL.PngImagePlugin.PngImageFile image mode=RGB size=112x35>"
      ]
     },
     "metadata": {},
     "output_type": "display_data"
    },
    {
     "data": {
      "image/jpeg": "[encoded data removed]",
      "image/png": "[encoded data removed]",
      "text/plain": [
       "<PIL.Image.Image image mode=1 size=112x35>"
      ]
     },
     "metadata": {},
     "output_type": "display_data"
    },
    {
     "data": {
      "image/jpeg": "[encoded data removed]",
      "image/png": "[encoded data removed]",
      "text/plain": [
       "<PIL.Image.Image image mode=RGB size=112x35>"
      ]
     },
     "metadata": {},
     "output_type": "display_data"
    },
    {
     "data": {
      "image/jpeg": "[encoded data removed]",
      "image/png": "[encoded data removed]",
      "text/plain": [
       "<PIL.Image.Image image mode=1 size=112x35>"
      ]
     },
     "metadata": {},
     "output_type": "display_data"
    }
   ],
   "source": [
    "from captchagen import get_captcha_image, generate_captcha, preprocess_image\n",
    "# 示例使用\n",
    "image, cookie = get_captcha_image()\n",
    "\n",
    "# image info\n",
    "print(image.size)\n",
    "# show image\n",
    "from IPython.display import display\n",
    "\n",
    "display(image)\n",
    "display(preprocess_image(image))\n",
    "\n",
    "image, captcha = generate_captcha()\n",
    "display(image)\n",
    "display(preprocess_image(image))"
   ]
  },
  {
   "cell_type": "code",
   "execution_count": 6,
   "metadata": {},
   "outputs": [
    {
     "name": "stderr",
     "output_type": "stream",
     "text": [
      "/tmp/ipykernel_1056577/1488443610.py:7: FutureWarning: You are using `torch.load` with `weights_only=False` (the current default value), which uses the default pickle module implicitly. It is possible to construct malicious pickle data which will execute arbitrary code during unpickling (See https://github.com/pytorch/pytorch/blob/main/SECURITY.md#untrusted-models for more details). In a future release, the default value for `weights_only` will be flipped to `True`. This limits the functions that could be executed during unpickling. Arbitrary objects will no longer be allowed to be loaded via this mode unless they are explicitly allowlisted by the user via `torch.serialization.add_safe_globals`. We recommend you start setting `weights_only=True` for any use case where you don't have full control of the loaded file. Please open an issue on GitHub for any issues related to this experimental feature.\n",
      "  model.load_state_dict(torch.load(\"captcha_ocr.pth\"))\n"
     ]
    }
   ],
   "source": [
    "import torch\n",
    "from models.cnn import CaptchaOCR\n",
    "model = CaptchaOCR().to(device)\n",
    "import os\n",
    "\n",
    "if os.path.exists(\"captcha_ocr.pth\"):\n",
    "    model.load_state_dict(torch.load(\"captcha_ocr.pth\"))"
   ]
  },
  {
   "cell_type": "code",
   "execution_count": 3,
   "metadata": {},
   "outputs": [
    {
     "name": "stderr",
     "output_type": "stream",
     "text": [
      "/home/caoziguang/miniconda3/envs/captcha/lib/python3.11/site-packages/torch/nn/modules/transformer.py:307: UserWarning: enable_nested_tensor is True, but self.use_nested_tensor is False because encoder_layer.self_attn.batch_first was not True(use batch_first for better inference performance)\n",
      "  warnings.warn(f\"enable_nested_tensor is True, but self.use_nested_tensor is False because {why_not_sparsity_fast_path}\")\n",
      "/tmp/ipykernel_1203494/4085151542.py:6: FutureWarning: You are using `torch.load` with `weights_only=False` (the current default value), which uses the default pickle module implicitly. It is possible to construct malicious pickle data which will execute arbitrary code during unpickling (See https://github.com/pytorch/pytorch/blob/main/SECURITY.md#untrusted-models for more details). In a future release, the default value for `weights_only` will be flipped to `True`. This limits the functions that could be executed during unpickling. Arbitrary objects will no longer be allowed to be loaded via this mode unless they are explicitly allowlisted by the user via `torch.serialization.add_safe_globals`. We recommend you start setting `weights_only=True` for any use case where you don't have full control of the loaded file. Please open an issue on GitHub for any issues related to this experimental feature.\n",
      "  model.load_state_dict(torch.load(\"captcha_transformer.pth\"))\n"
     ]
    }
   ],
   "source": [
    "from models.transformer import CaptchaSolverWithTransformer\n",
    "model = CaptchaSolverWithTransformer().to(device)\n",
    "import os\n",
    "\n",
    "if os.path.exists(\"captcha_transformer.pth\"):\n",
    "    model.load_state_dict(torch.load(\"captcha_transformer.pth\"))"
   ]
  },
  {
   "cell_type": "code",
   "execution_count": 13,
   "metadata": {},
   "outputs": [
    {
     "name": "stderr",
     "output_type": "stream",
     "text": [
      "/home/cao/miniconda3/envs/pytorch/lib/python3.10/site-packages/torch/nn/modules/transformer.py:282: UserWarning: enable_nested_tensor is True, but self.use_nested_tensor is False because encoder_layer.self_attn.batch_first was not True(use batch_first for better inference performance)\n",
      "  warnings.warn(f\"enable_nested_tensor is True, but self.use_nested_tensor is False because {why_not_sparsity_fast_path}\")\n"
     ]
    }
   ],
   "source": [
    "from models.cnn_transformer import CaptchaSolverWithCNNTransformer\n",
    "\n",
    "model = CaptchaSolverWithCNNTransformer().to(device)\n",
    "import os\n",
    "\n",
    "# if os.path.exists(\"captcha_cnn_transformer.pth\"):\n",
    "#     model.load_state_dict(torch.load(\"captcha_cnn_transformer.pth\"))"
   ]
  },
  {
   "cell_type": "code",
   "execution_count": 66,
   "metadata": {},
   "outputs": [],
   "source": [
    "from models.resnet import ResNetCaptchaOCR\n",
    "\n",
    "model = ResNetCaptchaOCR().to(device)\n",
    "import os\n",
    "\n",
    "if os.path.exists(\"captcha_resnet.pth\"):\n",
    "    model.load_state_dict(torch.load(\"captcha_resnet.pth\"))"
   ]
  },
  {
   "cell_type": "code",
   "execution_count": 57,
   "metadata": {},
   "outputs": [],
   "source": [
    "# save model\n",
    "def save_model(model):\n",
    "    if model.__class__.__name__ == \"CaptchaOCR\":\n",
    "        torch.save(model.state_dict(), \"captcha_ocr.pth\")\n",
    "    elif model.__class__.__name__ == \"CaptchaSolverWithTransformer\":\n",
    "        torch.save(model.state_dict(), \"captcha_transformer.pth\")\n",
    "    elif model.__class__.__name__ == \"ResNetCaptchaOCR\":\n",
    "        torch.save(model.state_dict(), \"captcha_resnet.pth\")"
   ]
  },
  {
   "cell_type": "code",
   "execution_count": 46,
   "metadata": {},
   "outputs": [],
   "source": [
    "from torch.utils.tensorboard import SummaryWriter\n",
    "writer = SummaryWriter(f\"runs/{model.__class__.__name__}\")\n",
    "last_epoch = 0"
   ]
  },
  {
   "cell_type": "code",
   "execution_count": 63,
   "metadata": {},
   "outputs": [
    {
     "name": "stderr",
     "output_type": "stream",
     "text": [
      "100%|██████████| 10000/10000 [00:08<00:00, 1180.45it/s]\n",
      "100%|██████████| 250/250 [00:00<00:00, 328.34it/s]\n"
     ]
    }
   ],
   "source": [
    "from torch.utils.data import DataLoader\n",
    "from dataset import CaptchaDataset\n",
    "\n",
    "dataset = CaptchaDataset(10000,repeat=8)\n",
    "dataloader = DataLoader(dataset, batch_size=32, shuffle=True, drop_last=True)\n",
    "\n",
    "test_dataset = CaptchaDataset(250)\n",
    "test_dataloader = DataLoader(test_dataset, batch_size=32, shuffle=True, drop_last=True)\n"
   ]
  },
  {
   "cell_type": "code",
   "execution_count": 71,
   "metadata": {},
   "outputs": [
    {
     "name": "stderr",
     "output_type": "stream",
     "text": [
      "  0%|          | 0/312 [00:00<?, ?it/s]"
     ]
    },
    {
     "name": "stderr",
     "output_type": "stream",
     "text": [
      "100%|██████████| 312/312 [03:24<00:00,  1.53it/s]\n"
     ]
    },
    {
     "name": "stdout",
     "output_type": "stream",
     "text": [
      "epoch: 181, loss: 4.1007819175720215, accuracy: 0.0390625\n",
      "test loss: 4.1385659490312845, test accuracy: 0.027901785714285716\n"
     ]
    },
    {
     "name": "stderr",
     "output_type": "stream",
     "text": [
      "100%|██████████| 312/312 [02:51<00:00,  1.82it/s]\n"
     ]
    },
    {
     "name": "stdout",
     "output_type": "stream",
     "text": [
      "epoch: 182, loss: 4.0031418800354, accuracy: 0.0546875\n",
      "test loss: 4.1125552994864325, test accuracy: 0.027901785714285716\n"
     ]
    },
    {
     "name": "stderr",
     "output_type": "stream",
     "text": [
      "100%|██████████| 312/312 [02:41<00:00,  1.93it/s]\n"
     ]
    },
    {
     "name": "stdout",
     "output_type": "stream",
     "text": [
      "epoch: 183, loss: 3.990255832672119, accuracy: 0.0234375\n",
      "test loss: 4.109961986541748, test accuracy: 0.026785714285714284\n"
     ]
    },
    {
     "name": "stderr",
     "output_type": "stream",
     "text": [
      "100%|██████████| 312/312 [02:23<00:00,  2.17it/s]\n"
     ]
    },
    {
     "name": "stdout",
     "output_type": "stream",
     "text": [
      "epoch: 184, loss: 4.042577266693115, accuracy: 0.03125\n",
      "test loss: 4.086356367383685, test accuracy: 0.029017857142857144\n"
     ]
    },
    {
     "name": "stderr",
     "output_type": "stream",
     "text": [
      "100%|██████████| 312/312 [02:31<00:00,  2.06it/s]\n"
     ]
    },
    {
     "name": "stdout",
     "output_type": "stream",
     "text": [
      "epoch: 185, loss: 3.9522340297698975, accuracy: 0.0390625\n",
      "test loss: 4.051772015435355, test accuracy: 0.041294642857142856\n"
     ]
    },
    {
     "name": "stderr",
     "output_type": "stream",
     "text": [
      "100%|██████████| 312/312 [02:31<00:00,  2.05it/s]\n"
     ]
    },
    {
     "name": "stdout",
     "output_type": "stream",
     "text": [
      "epoch: 186, loss: 3.794245481491089, accuracy: 0.09375\n",
      "test loss: 4.03539320400783, test accuracy: 0.03125\n"
     ]
    },
    {
     "name": "stderr",
     "output_type": "stream",
     "text": [
      "  6%|▌         | 19/312 [00:08<02:25,  2.02it/s]"
     ]
    }
   ],
   "source": [
    "# train model\n",
    "import torch\n",
    "import torch.optim as optim\n",
    "from tqdm import tqdm\n",
    "\n",
    "optimizer = optim.Adam(model.parameters(), lr=0.001)\n",
    "criterion = torch.nn.CrossEntropyLoss()\n",
    "\n",
    "for epoch in range(last_epoch, 100+last_epoch):\n",
    "    last_epoch = epoch\n",
    "    for x, y in tqdm(dataloader):\n",
    "        x, y = x.to(device), y.to(device)\n",
    "        y_pred = model(x)\n",
    "        loss = criterion(y_pred.view(-1, 62), y.argmax(dim=-1).view(-1))\n",
    "        optimizer.zero_grad()\n",
    "        loss.backward()\n",
    "        optimizer.step()\n",
    "    accuracy = (y_pred.argmax(dim=-1) == y.argmax(dim=-1)).float().mean()\n",
    "    tqdm.write(f\"epoch: {epoch}, loss: {loss.item()}, accuracy: {accuracy.item()}\")\n",
    "\n",
    "    with torch.no_grad():\n",
    "        total_loss = 0\n",
    "        total_accuracy = 0\n",
    "        for x, y in test_dataloader:\n",
    "            x, y = x.to(device), y.to(device)\n",
    "            y_pred = model(x)\n",
    "            total_loss += criterion(y_pred.view(-1, 62), y.argmax(dim=-1).view(-1)).item()\n",
    "            total_accuracy += (y_pred.argmax(dim=-1) == y.argmax(dim=-1)).float().mean().item()\n",
    "        total_loss /= len(test_dataloader)\n",
    "        tqdm.write(f\"test loss: {total_loss}, test accuracy: {total_accuracy / len(test_dataloader)}\")\n",
    "    writer.add_scalars(\"loss\", {\n",
    "        \"train\": loss.item(),\n",
    "        \"test\": total_loss\n",
    "    }, epoch)\n",
    "    writer.add_scalars(\"accuracy\", {\n",
    "        \"train\": accuracy.item(),\n",
    "        \"test\": total_accuracy / len(test_dataloader)\n",
    "    }, epoch)\n",
    "    save_model(model)\n",
    "    "
   ]
  },
  {
   "cell_type": "code",
   "execution_count": 30,
   "metadata": {},
   "outputs": [
    {
     "name": "stderr",
     "output_type": "stream",
     "text": [
      "100%|██████████| 1000/1000 [00:05<00:00, 188.56it/s]\n",
      "100%|██████████| 31/31 [00:00<00:00, 718.47it/s]"
     ]
    },
    {
     "name": "stdout",
     "output_type": "stream",
     "text": [
      "Loss: 0.030414240355298126 Accuracy: 0.7046370967741935\n"
     ]
    },
    {
     "name": "stderr",
     "output_type": "stream",
     "text": [
      "\n"
     ]
    }
   ],
   "source": [
    "# eval model\n",
    "from dataset import CaptchaDataset\n",
    "from torch.utils.data import DataLoader\n",
    "from tqdm import tqdm\n",
    "\n",
    "test_dataset = CaptchaDataset(1000)\n",
    "test_dataloader = DataLoader(test_dataset, batch_size=32, shuffle=True, drop_last=True)\n",
    "\n",
    "with torch.no_grad():\n",
    "    total_loss = 0\n",
    "    total_accuracy = 0\n",
    "    for x, y in tqdm(test_dataloader):\n",
    "        x, y = x.to(device), y.to(device)\n",
    "        y_pred = model(x)\n",
    "        total_loss += criterion(y_pred.view(-1, 62), y.argmax(dim=-1).view(-1)).item()\n",
    "        total_accuracy += (y_pred.argmax(dim=-1) == y.argmax(dim=-1)).float().mean().item()\n",
    "    total_loss /= len(test_dataloader)\n",
    "    print(f\"Loss: {total_loss/len(test_dataloader)} Accuracy: {total_accuracy/len(test_dataloader)}\")"
   ]
  },
  {
   "cell_type": "code",
   "execution_count": 67,
   "metadata": {},
   "outputs": [
    {
     "data": {
      "image/png": "[encoded data removed]",
      "text/plain": [
       "<PIL.Image.Image image mode=RGB size=112x35>"
      ]
     },
     "metadata": {},
     "output_type": "display_data"
    },
    {
     "name": "stdout",
     "output_type": "stream",
     "text": [
      "hQo1\n"
     ]
    },
    {
     "data": {
      "text/plain": [
       "[('n87Y', 9.280781654297243e-08),\n",
       " ('n8mY', 9.125150057798237e-08),\n",
       " ('n8sY', 9.088097385756555e-08),\n",
       " ('J87Y', 9.087982988376098e-08),\n",
       " ('nc7Y', 9.080554264073726e-08),\n",
       " ('787Y', 9.056894612058386e-08),\n",
       " ('n87u', 9.040382309422057e-08),\n",
       " ('n83Y', 9.036206449763995e-08),\n",
       " ('n8DY', 9.031220571387166e-08),\n",
       " ('n8JY', 9.002723544426772e-08)]"
      ]
     },
     "execution_count": 67,
     "metadata": {},
     "output_type": "execute_result"
    }
   ],
   "source": [
    "from captchagen import generate_captcha, preprocess_image\n",
    "from torchvision import transforms\n",
    "# test model\n",
    "image, captcha = generate_captcha()\n",
    "display(image)\n",
    "print(captcha)\n",
    "image = preprocess_image(image)\n",
    "x = transforms.ToTensor()(image).unsqueeze(0).to(device)\n",
    "y_pred = model.predict_all_possible(x)\n",
    "y_pred"
   ]
  },
  {
   "cell_type": "code",
   "execution_count": 60,
   "metadata": {},
   "outputs": [
    {
     "data": {
      "image/png": "[encoded data removed]",
      "text/plain": [
       "<PIL.PngImagePlugin.PngImageFile image mode=RGB size=112x35>"
      ]
     },
     "metadata": {},
     "output_type": "display_data"
    },
    {
     "data": {
      "text/plain": [
       "[('P4dG', 6.923270575498464e-06),\n",
       " ('P44G', 6.065429715818027e-06),\n",
       " ('PddG', 5.4924707910686266e-06),\n",
       " ('P4d3', 5.471089025377296e-06),\n",
       " ('H4dG', 5.4138868108566385e-06),\n",
       " ('PcdG', 5.277231139189098e-06),\n",
       " ('P4dq', 5.127371878188569e-06),\n",
       " ('P3dG', 5.079692073195474e-06),\n",
       " ('P4FG', 4.959315447194967e-06),\n",
       " ('PxdG', 4.918065769743407e-06)]"
      ]
     },
     "execution_count": 60,
     "metadata": {},
     "output_type": "execute_result"
    }
   ],
   "source": [
    "from captchagen import get_captcha_image\n",
    "# test model on real captcha\n",
    "image, cookie = get_captcha_image()\n",
    "display(image)\n",
    "\n",
    "image = preprocess_image(image)\n",
    "x = transforms.ToTensor()(image).unsqueeze(0).to(device)\n",
    "y_pred = model.predict_all_possible(x)\n",
    "y_pred"
   ]
  }
 ],
 "metadata": {
  "kernelspec": {
   "display_name": ".venv",
   "language": "python",
   "name": "python3"
  },
  "language_info": {
   "codemirror_mode": {
    "name": "ipython",
    "version": 3
   },
   "file_extension": ".py",
   "mimetype": "text/x-python",
   "name": "python",
   "nbconvert_exporter": "python",
   "pygments_lexer": "ipython3",
   "version": "3.11.9"
  }
 },
 "nbformat": 4,
 "nbformat_minor": 2
}
